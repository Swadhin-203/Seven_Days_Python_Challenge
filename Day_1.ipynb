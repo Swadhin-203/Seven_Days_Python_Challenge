{
 "cells": [
  {
   "cell_type": "markdown",
   "id": "7e69bf9d-d10f-4078-b65d-bbf38b6405b9",
   "metadata": {},
   "source": [
    "# 1. Write a code to reverse a number"
   ]
  },
  {
   "cell_type": "code",
   "execution_count": 11,
   "id": "940975bc-1f1c-4215-8831-87c71fa1d604",
   "metadata": {},
   "outputs": [
    {
     "name": "stdin",
     "output_type": "stream",
     "text": [
      "Enter the number:  123\n"
     ]
    },
    {
     "name": "stdout",
     "output_type": "stream",
     "text": [
      "The Reverse of the number 123 is 321\n"
     ]
    }
   ],
   "source": [
    "num=int(input(\"Enter the number: \"))\n",
    "temp=num\n",
    "rev=0\n",
    "while temp>0:\n",
    "    rem=temp%10\n",
    "    rev=rev*10+rem\n",
    "    temp=temp//10\n",
    "\n",
    "print(\"The Reverse of the number {0} is {1}\".format(num,rev))"
   ]
  },
  {
   "cell_type": "markdown",
   "id": "5c67c6cd-9db1-49b3-b888-b68bce794c69",
   "metadata": {},
   "source": [
    "# 2. Write the code to find the Fibonacci series upto the nth term."
   ]
  },
  {
   "cell_type": "code",
   "execution_count": 17,
   "id": "7271d9f5-4068-4cee-ad12-c3fd3a2981fb",
   "metadata": {},
   "outputs": [
    {
     "name": "stdin",
     "output_type": "stream",
     "text": [
      "Enter the nth term to find the fibonacci: 5\n"
     ]
    },
    {
     "name": "stdout",
     "output_type": "stream",
     "text": [
      "0\n",
      "1\n",
      "1\n",
      "2\n",
      "3\n"
     ]
    }
   ],
   "source": [
    "n=int(input(\"Enter the nth term to find the fibonacci:\"))\n",
    "a,b=0,1\n",
    "i=sum=0\n",
    "while i<n:\n",
    "    print(a)\n",
    "    sum=a+b\n",
    "    b=a\n",
    "    a=sum\n",
    "    i+=1"
   ]
  },
  {
   "cell_type": "markdown",
   "id": "1f2cba27-831c-4fdc-94a5-316b880e1051",
   "metadata": {},
   "source": [
    "# 3. Write code of Greatest Common Divisor"
   ]
  },
  {
   "cell_type": "code",
   "execution_count": 21,
   "id": "ee65f8e4-4fbd-49e7-8aae-1fb224780464",
   "metadata": {},
   "outputs": [
    {
     "name": "stdin",
     "output_type": "stream",
     "text": [
      "Enter the First Number: 50\n",
      "Enter the Second Number: 15\n"
     ]
    },
    {
     "name": "stdout",
     "output_type": "stream",
     "text": [
      "The GCD of 50 and 15 is 5\n"
     ]
    }
   ],
   "source": [
    "num1=int(input(\"Enter the First Number:\"))\n",
    "num2=int(input(\"Enter the Second Number:\"))\n",
    "\n",
    "def gcd(num1,num2):\n",
    "    if num1>num2:\n",
    "        small=num2\n",
    "    else:\n",
    "        small=num1\n",
    "    for i in range(1,small+1):\n",
    "        if (num1%i==0) and (num2%i==0):\n",
    "            gcd=i\n",
    "    print(f\"The GCD of {num1} and {num2} is {gcd}\")\n",
    "\n",
    "gcd(num1,num2)"
   ]
  },
  {
   "cell_type": "markdown",
   "id": "f611975f-a8f7-4cf3-a9e2-d08bed15e5b7",
   "metadata": {},
   "source": [
    "# 4. Write code of  Perfect number"
   ]
  },
  {
   "cell_type": "code",
   "execution_count": 26,
   "id": "fcb17292-f66f-489e-9c8c-aabf245c4cb0",
   "metadata": {},
   "outputs": [
    {
     "name": "stdin",
     "output_type": "stream",
     "text": [
      "Enter the number: 6\n"
     ]
    },
    {
     "name": "stdout",
     "output_type": "stream",
     "text": [
      "6 is a perfect number\n"
     ]
    }
   ],
   "source": [
    "num=int(input(\"Enter the number:\"))\n",
    "sum=0\n",
    "for i in range(1,num):\n",
    "    if num%i==0:\n",
    "        sum+=i\n",
    "if sum==num:\n",
    "    print(f\"{num} is a perfect number\")\n",
    "else:\n",
    "    print(f\"{num} is not a perfect number\")\n",
    "    "
   ]
  },
  {
   "cell_type": "markdown",
   "id": "0780e5c1-17fe-4d2c-9f16-a3693301242e",
   "metadata": {},
   "source": [
    "# 5. Write code to Check if two strings are Anagram or not"
   ]
  },
  {
   "cell_type": "code",
   "execution_count": 49,
   "id": "54b252fd-a1c3-4c6f-aab7-1edd37115f3d",
   "metadata": {},
   "outputs": [
    {
     "name": "stdin",
     "output_type": "stream",
     "text": [
      "Enter the First String: anagram\n",
      "Enter the Second String: anagram\n"
     ]
    },
    {
     "name": "stdout",
     "output_type": "stream",
     "text": [
      " Strings are anagram\n"
     ]
    }
   ],
   "source": [
    "str1=input(\"Enter the First String:\")\n",
    "str2=input(\"Enter the Second String:\")   \n",
    "\n",
    "anagram(str1,str2)\n",
    "\n",
    "def anagram(s,t):\n",
    "\n",
    "    if len(s)!=len(t):\n",
    "        print(\" Strings  are not anagram\")\n",
    "        \n",
    "    else:\n",
    "        s=sorted(s)\n",
    "        t=sorted(t)\n",
    "        \n",
    "    if s==t:\n",
    "        print(\" Strings are anagram\")\n",
    "    else:\n",
    "        print(\" Strings are not anagram\")\n",
    "           \n",
    "        \n",
    "    "
   ]
  },
  {
   "cell_type": "markdown",
   "id": "3b8e9fa7-b997-48d4-811d-58b2f77e0d9f",
   "metadata": {},
   "source": [
    "# 6. Write code Check if the given string is Palindrome or not"
   ]
  },
  {
   "cell_type": "code",
   "execution_count": 56,
   "id": "25604cf1-38de-41f0-b091-3ef6ac09cdf5",
   "metadata": {},
   "outputs": [
    {
     "name": "stdin",
     "output_type": "stream",
     "text": [
      "Enter the  String:  ssss\n"
     ]
    },
    {
     "name": "stdout",
     "output_type": "stream",
     "text": [
      "The String is Palindrome\n"
     ]
    }
   ],
   "source": [
    "str1=input(\"Enter the  String: \")\n",
    "if str1==str1[::-1]:\n",
    "    print(\"The String is Palindrome\")\n",
    "else:\n",
    "    print(\"The String is not Palindrome\")"
   ]
  },
  {
   "cell_type": "markdown",
   "id": "ef998014-4a6d-46ce-ae96-1fc47a342def",
   "metadata": {},
   "source": [
    "# 7. Write code to Calculate frequency of characters in a string"
   ]
  },
  {
   "cell_type": "code",
   "execution_count": 66,
   "id": "1c0d7fb6-936f-423e-8efe-e0b62a743b0b",
   "metadata": {},
   "outputs": [
    {
     "name": "stdin",
     "output_type": "stream",
     "text": [
      "Enter the String:  Swadhin gyanajyoti nayak\n"
     ]
    },
    {
     "name": "stdout",
     "output_type": "stream",
     "text": [
      "S 1\n",
      "w 1\n",
      "a 5\n",
      "d 1\n",
      "h 1\n",
      "i 2\n",
      "n 3\n",
      "  2\n",
      "g 1\n",
      "y 3\n",
      "j 1\n",
      "o 1\n",
      "t 1\n",
      "k 1\n"
     ]
    }
   ],
   "source": [
    "s=input(\"Enter the String: \")\n",
    "\n",
    "def freq(s):\n",
    "    char_freq={}\n",
    "\n",
    "    for i in s:\n",
    "        if i in char_freq:\n",
    "            char_freq[i]+=1\n",
    "        else:\n",
    "            char_freq[i]=1\n",
    "    return char_freq\n",
    "for i,j in freq(s).items():\n",
    "    print(i,j)\n"
   ]
  },
  {
   "cell_type": "code",
   "execution_count": null,
   "id": "95d0571e-d1bd-4e80-ae05-26ea26c1257a",
   "metadata": {},
   "outputs": [],
   "source": []
  },
  {
   "cell_type": "code",
   "execution_count": null,
   "id": "9ae0df25-6659-479e-950d-3980b3fc91d6",
   "metadata": {},
   "outputs": [],
   "source": []
  },
  {
   "cell_type": "code",
   "execution_count": null,
   "id": "ad2d4d4b-21b8-4d82-a21e-8f460627355e",
   "metadata": {},
   "outputs": [],
   "source": []
  },
  {
   "cell_type": "markdown",
   "id": "ad1f079f-e06a-435f-abee-cbb08a52a0ba",
   "metadata": {},
   "source": []
  }
 ],
 "metadata": {
  "kernelspec": {
   "display_name": "Python 3 (ipykernel)",
   "language": "python",
   "name": "python3"
  },
  "language_info": {
   "codemirror_mode": {
    "name": "ipython",
    "version": 3
   },
   "file_extension": ".py",
   "mimetype": "text/x-python",
   "name": "python",
   "nbconvert_exporter": "python",
   "pygments_lexer": "ipython3",
   "version": "3.11.4"
  },
  "widgets": {
   "application/vnd.jupyter.widget-state+json": {
    "state": {},
    "version_major": 2,
    "version_minor": 0
   }
  }
 },
 "nbformat": 4,
 "nbformat_minor": 5
}
