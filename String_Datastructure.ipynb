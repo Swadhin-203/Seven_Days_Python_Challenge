{
 "cells": [
  {
   "cell_type": "markdown",
   "id": "697ffd26-04ac-4645-9f09-b068dbc060b0",
   "metadata": {},
   "source": [
    "# What is String?\n",
    "Any sequence of characters within either single quotes or double quotes is considered as a String.in most of other languges like c, c++, java a single character with in single quotes is treated as char data type value. But in python we are not having char data type. Hence it is treted as String only."
   ]
  },
  {
   "cell_type": "code",
   "execution_count": 2,
   "id": "7eafb9aa-7e8b-470c-b91c-9ac19789ef4f",
   "metadata": {},
   "outputs": [
    {
     "name": "stdout",
     "output_type": "stream",
     "text": [
      "Swadhin Gyanajyoti Nayak\n",
      "My insta id _swadhiii\n",
      "\n"
     ]
    }
   ],
   "source": [
    "# We can define multi-line string literals by using triple quotes.\n",
    "s=\"\"\"Swadhin Gyanajyoti Nayak\n",
    "My insta id _swadhiii\n",
    "\"\"\"\n",
    "print(s)"
   ]
  },
  {
   "cell_type": "markdown",
   "id": "6144c6b2-8c31-4c2f-8596-fdbfc781c377",
   "metadata": {},
   "source": [
    "# Valid and Invalid Format\n",
    "\n",
    "s='This is ' single quote symbol' ==>invalid\n",
    "s='This is \\' single quote symbol' ==>valid\n",
    "s=\"This is ' single quote symbol\"====>valid\n",
    "s='This is \" double quotes symbol' ==>valid\n",
    "s='The \"Python Notes\" by 'Swadhin' is very helpful' ==>invalid\n",
    "s=\"The \"Python Notes\" by 'Swadhin' is very helpful\"==>invalid\n",
    "s='The \\\"Python Notes\\\" by \\'Swadhin\\' is very helpful' ==>valid\n",
    "s='''The \"Python Notes\" by 'Swadhin' is very helpful''' ==>valid"
   ]
  },
  {
   "cell_type": "markdown",
   "id": "fe7665c9-36aa-417a-b127-b181a10803ee",
   "metadata": {},
   "source": [
    "# Acessing Character of a String\n",
    " There are two ways by which we can acess the character of a String\n",
    "### 1-By using index\n",
    "=>Python Supports both +ve and -ve indexing, where +ve means left to       right(forward direction) and -ve means right to left(backward direction)\n",
    "### 2-By using Slice opearator\n",
    "=>we Can also access the index by using slice operator\n",
    "Syntax: s[bEginindex:endindex:step]"
   ]
  },
  {
   "cell_type": "code",
   "execution_count": 8,
   "id": "687d9af9-25e3-4baa-bb32-4b08790ef77b",
   "metadata": {},
   "outputs": [
    {
     "name": "stdout",
     "output_type": "stream",
     "text": [
      "S\n",
      "d\n"
     ]
    },
    {
     "ename": "IndexError",
     "evalue": "string index out of range",
     "output_type": "error",
     "traceback": [
      "\u001b[1;31m---------------------------------------------------------------------------\u001b[0m",
      "\u001b[1;31mIndexError\u001b[0m                                Traceback (most recent call last)",
      "Cell \u001b[1;32mIn[8], line 4\u001b[0m\n\u001b[0;32m      2\u001b[0m \u001b[38;5;28mprint\u001b[39m(s[\u001b[38;5;241m0\u001b[39m]) \u001b[38;5;66;03m# We can access the 'S' by using index value\u001b[39;00m\n\u001b[0;32m      3\u001b[0m \u001b[38;5;28mprint\u001b[39m(s[\u001b[38;5;241m3\u001b[39m]) \u001b[38;5;66;03m#'d'\u001b[39;00m\n\u001b[1;32m----> 4\u001b[0m \u001b[38;5;28mprint\u001b[39m(\u001b[43ms\u001b[49m\u001b[43m[\u001b[49m\u001b[38;5;241;43m34\u001b[39;49m\u001b[43m]\u001b[49m) \u001b[38;5;66;03m# String index out of range\u001b[39;00m\n",
      "\u001b[1;31mIndexError\u001b[0m: string index out of range"
     ]
    }
   ],
   "source": [
    "s=\"Swadhin Gyanajyoti Nayak\"\n",
    "print(s[0]) # We can access the 'S' by using index value\n",
    "print(s[3]) #'d'\n",
    "print(s[34]) # String index out of range"
   ]
  },
  {
   "cell_type": "code",
   "execution_count": 10,
   "id": "b6426e4d-afe9-4bd3-9d6f-834cd0cc3632",
   "metadata": {},
   "outputs": [
    {
     "name": "stdin",
     "output_type": "stream",
     "text": [
      "Enter a String:-  swadhin\n"
     ]
    },
    {
     "name": "stdout",
     "output_type": "stream",
     "text": [
      "The +ve index value of character s is 0 and it's -ve index value is -7\n",
      "The +ve index value of character w is 1 and it's -ve index value is -6\n",
      "The +ve index value of character a is 2 and it's -ve index value is -5\n",
      "The +ve index value of character d is 3 and it's -ve index value is -4\n",
      "The +ve index value of character h is 4 and it's -ve index value is -3\n",
      "The +ve index value of character i is 5 and it's -ve index value is -2\n",
      "The +ve index value of character n is 6 and it's -ve index value is -1\n"
     ]
    }
   ],
   "source": [
    "# Q. Write a program to accept some string from the keyboard and display its characters by\n",
    "# index wise(both positive and nEgative index)\n",
    "\n",
    "s = input(\"Enter a String:- \")\n",
    "i=0\n",
    "for x in s:\n",
    "    print(f\"The +ve index value of character {x} is {i} and it's -ve index value is {i-len(s)}\")\n",
    "    i+=1"
   ]
  },
  {
   "cell_type": "code",
   "execution_count": 14,
   "id": "46cec1a7-a0a6-493e-aa8a-4eb454acddf8",
   "metadata": {},
   "outputs": [
    {
     "name": "stdout",
     "output_type": "stream",
     "text": [
      " Gyana\n"
     ]
    }
   ],
   "source": [
    "s=\"Swadhin Gyanajyoti Nayak\" # we will Extract Gyana from this by using slice operator\n",
    "print(s[7:13])"
   ]
  },
  {
   "cell_type": "code",
   "execution_count": 22,
   "id": "9b3b753b-f830-4c43-b055-6505862d5cb2",
   "metadata": {},
   "outputs": [
    {
     "name": "stdout",
     "output_type": "stream",
     "text": [
      "Printing all the character in Forward direction\n",
      "\n",
      "D a t a   S c i e n c e   i s   v e r y   e a s y   \n",
      "Printing all the character in backword Direction\n",
      " \n",
      "  y s a e   y r e v   s i   e c n e i c S   a t a D "
     ]
    }
   ],
   "source": [
    "# Q. Write a program to access each character of string in forward and backward direction\n",
    "# by using while loop?\n",
    "\n",
    "s=\"Data Science is very easy \"\n",
    "n=len(s)\n",
    "i=0\n",
    "print(\"Printing all the character in Forward direction\\n\")\n",
    "while i<n:\n",
    "    print(s[i],end=\" \")\n",
    "    i+=1\n",
    "print(\"\\nPrinting all the character in backword Direction\\n \")\n",
    "i=n-1\n",
    "while i>=0:\n",
    "    print(s[i],end=\" \")\n",
    "    i-=1"
   ]
  },
  {
   "cell_type": "markdown",
   "id": "07aa6573-b1f5-4a4b-ab07-8ba345f5439a",
   "metadata": {},
   "source": [
    "# Checking Membership:\n",
    "We can check whether the character or string is the member of another string or not by using in and not in operators\n"
   ]
  },
  {
   "cell_type": "code",
   "execution_count": 23,
   "id": "c112eec5-2823-4bf3-8df1-077abee78fc1",
   "metadata": {},
   "outputs": [
    {
     "name": "stdout",
     "output_type": "stream",
     "text": [
      "True\n",
      "True\n",
      "False\n"
     ]
    }
   ],
   "source": [
    "s= \"Swadhin Gyanajyoti Nayak\"\n",
    "print(\"jyoti\" in s)\n",
    "print('n' in s)\n",
    "print(\"L\" in s)"
   ]
  },
  {
   "cell_type": "markdown",
   "id": "d233faa1-238b-4aa1-beef-f85c8bf21e6f",
   "metadata": {},
   "source": [
    "# Comparison of Strings:\n",
    "We can use comparison operators (<,<=,>,>=) and equality operators(==,!=) for strings.\n",
    "Comparison will be performed based on alphabetical order."
   ]
  },
  {
   "cell_type": "code",
   "execution_count": 25,
   "id": "b4a8b9e4-fa20-46eb-8e6e-14097fe7fdd4",
   "metadata": {},
   "outputs": [
    {
     "name": "stdin",
     "output_type": "stream",
     "text": [
      "Enter the First String: swadhin\n",
      "Enter the Second String: swadhin\n"
     ]
    },
    {
     "name": "stdout",
     "output_type": "stream",
     "text": [
      "Both The Strings are equal\n"
     ]
    }
   ],
   "source": [
    "s1=input(\"Enter the First String:\")\n",
    "s2=input(\"Enter the Second String:\")\n",
    "if s1==s2:\n",
    "    print(\"Both The Strings are equal\")\n",
    "elif s1<s2:\n",
    "    print(\"First String is less than the second String\")\n",
    "else:\n",
    "    print(\"Second String is less than the first String\")"
   ]
  },
  {
   "cell_type": "markdown",
   "id": "42508987-a6c2-4e6d-9360-5dbff2f5e4c2",
   "metadata": {},
   "source": [
    "# Removing spaces from the string:\n",
    "We can use the following 3 methods\n",
    "1. rstrip()===>To remove spaces at right hand side\n",
    "2. lstrip()===>To remove spaces at left hand side\n",
    "3. strip() ==>To remove spaces both sides\n"
   ]
  },
  {
   "cell_type": "code",
   "execution_count": 33,
   "id": "988e2661-4af8-4818-900a-5fe40abe5b43",
   "metadata": {},
   "outputs": [
    {
     "name": "stdout",
     "output_type": "stream",
     "text": [
      "    Swadhin Gyanajyoti Nayak  \n",
      "Swadhin Gyanajyoti Nayak  \n",
      "    Swadhin Gyanajyoti Nayak\n",
      "Swadhin Gyanajyoti Nayak\n"
     ]
    }
   ],
   "source": [
    "s=\"    Swadhin Gyanajyoti Nayak  \"\n",
    "print(s)# Original Having spaces on both sides\n",
    "print(s.lstrip()) # removing left side spaces\n",
    "print(s.rstrip())# removing right side spaces\n",
    "print(s.strip()) # removing spaces from both the sides"
   ]
  },
  {
   "cell_type": "markdown",
   "id": "82d57018-72f1-4a10-93b4-36ad6e26d1ea",
   "metadata": {},
   "source": [
    "# Finding Substrings:\n",
    "We can use the following 4 methods\n",
    "## For forward direction:\n",
    "find()\n",
    "index()\n",
    "## For backward direction:\n",
    "rfind()\n",
    "rindex()"
   ]
  },
  {
   "cell_type": "code",
   "execution_count": 37,
   "id": "119d19ca-a063-4009-aff4-8acdd23e0dae",
   "metadata": {},
   "outputs": [
    {
     "name": "stdin",
     "output_type": "stream",
     "text": [
      "Enter the main String:- swadhin gyanajyoti nayak\n",
      "Enter the Substring:- jyoti\n"
     ]
    },
    {
     "name": "stdout",
     "output_type": "stream",
     "text": [
      "jyoti is available in 13 index\n"
     ]
    }
   ],
   "source": [
    "# Using Find method\n",
    "s=input(\"Enter the main String:-\")\n",
    "sub=input(\"Enter the Substring:-\")\n",
    "print(f\"{sub} is available in {s.find(sub)} index\")"
   ]
  },
  {
   "cell_type": "code",
   "execution_count": 39,
   "id": "7d8b6361-ee32-4e7d-b2f6-3766a94728b9",
   "metadata": {},
   "outputs": [
    {
     "name": "stdin",
     "output_type": "stream",
     "text": [
      "Enter the main String:- swadhin gyanajyoti nayak\n",
      "Enter the sub String:- nayak\n"
     ]
    },
    {
     "name": "stdout",
     "output_type": "stream",
     "text": [
      "Found at position  19\n"
     ]
    }
   ],
   "source": [
    "# Q. Program to display all positions of substring in a given main string\n",
    "s=input(\"Enter the main String:-\")\n",
    "subs=input(\"Enter the sub String:-\")\n",
    "flag=False\n",
    "pos=-1\n",
    "n=len(s)\n",
    "while True:\n",
    "    pos=s.find(subs,pos+1,n)\n",
    "    if pos==-1:\n",
    "        break\n",
    "    print(\"Found at position \",pos)\n",
    "    flag= True\n",
    "    if flag==False:\n",
    "        print(\"Not Found\")"
   ]
  },
  {
   "cell_type": "markdown",
   "id": "0f7da737-9878-49bf-bbaf-859f323b1273",
   "metadata": {},
   "source": [
    "# Counting substring in the given String:\n",
    "We can find the number of occurrences of substring present in the given string by using count()\n",
    "method.\n",
    "1. s.count(substring) ==> It will search through out the string\n",
    "2. s.count(substring, bEgin, end) ===> It will search from bEgin index to end-1 index\n"
   ]
  },
  {
   "cell_type": "code",
   "execution_count": 43,
   "id": "74e52a3c-787d-4065-bb1c-4c2918d435b1",
   "metadata": {},
   "outputs": [
    {
     "name": "stdout",
     "output_type": "stream",
     "text": [
      "2\n",
      "1\n"
     ]
    }
   ],
   "source": [
    "s=\"SwadhingyanajotinayakSwadhin\"\n",
    "print(s.count(\"Swadhin\"))#2\n",
    "print(s.count(\"dhin\",2,7))#1"
   ]
  },
  {
   "cell_type": "markdown",
   "id": "a77ad60b-413c-4467-a059-56831c5ab126",
   "metadata": {},
   "source": [
    "# Replacing a string with another string:\n",
    "s.replace(oldstring,newstring)\n",
    "inside s, every occurrence of oldstring will be replaced with newstring."
   ]
  },
  {
   "cell_type": "code",
   "execution_count": 49,
   "id": "04d8d87a-f74e-4db3-b48b-c1df803af6f7",
   "metadata": {},
   "outputs": [
    {
     "name": "stdout",
     "output_type": "stream",
     "text": [
      "Learning Python is very easy\n"
     ]
    }
   ],
   "source": [
    "s=\"Learning Python is very difficult\"\n",
    "s1=s.replace(\"difficult\",\"easy\")\n",
    "print(s1)\n"
   ]
  },
  {
   "cell_type": "markdown",
   "id": "50b3afec-8d0a-448f-a68c-85628e672e05",
   "metadata": {},
   "source": [
    "# Q. String objects are immutable then how we can change the content by using   replace() method.\n",
    "    \n",
    "Once we creates string object, we cannot change the content.This non changeable behaviour is\n",
    "nothing but immutability. If we are trying to change the content by using any method, then with\n",
    "those changes a new object will be created and changes won't be happend in existing object.\n",
    "Hence with replace() method also a new object got created but existing object won't be changed.\n"
   ]
  },
  {
   "cell_type": "code",
   "execution_count": 50,
   "id": "17439c25-bca6-4795-bec2-ae188467d9e0",
   "metadata": {},
   "outputs": [
    {
     "name": "stdout",
     "output_type": "stream",
     "text": [
      "abab is available at : 1759954157488\n",
      "bbbb is available at : 1759946454384\n"
     ]
    }
   ],
   "source": [
    "\n",
    "s=\"abab\"\n",
    "s1=s.replace(\"a\",\"b\")\n",
    "print(s,\"is available at :\",id(s))\n",
    "print(s1,\"is available at :\",id(s1))\n",
    "\n",
    "# In the above example, original object is available and we can see new object which was created\n",
    "# because of replace() method."
   ]
  },
  {
   "cell_type": "markdown",
   "id": "4516c9f0-a124-47c2-b8af-011222d7b4bf",
   "metadata": {},
   "source": [
    "# Splitting of Strings:\n",
    "We can split the given string according to specified seperator by using split() method.\n",
    "l=s.split(seperator)\n",
    "The default seperator is space. The return type of split() method is List"
   ]
  },
  {
   "cell_type": "code",
   "execution_count": 52,
   "id": "0cfce798-b3b2-4296-a524-f965ffad1ea7",
   "metadata": {},
   "outputs": [
    {
     "name": "stdout",
     "output_type": "stream",
     "text": [
      "Swadhin gyanajyoti nayak\n",
      "['Swadhin', 'gyanajyoti', 'nayak']\n",
      "Swadhin gyanajyoti nayak\n"
     ]
    }
   ],
   "source": [
    "s=\"Swadhin gyanajyoti nayak\"\n",
    "print(s)\n",
    "print(s.split())\n",
    "email=\"nayakswadhingyanajyoti@gmail.com\"\n",
    "print(s.split('@')[0])"
   ]
  },
  {
   "cell_type": "markdown",
   "id": "b2345f2e-e992-47cd-860a-0e22c10432a5",
   "metadata": {},
   "source": [
    "# Joining of Strings:\n",
    "\n",
    "We can join a group of strings(list or tuple) wrt the given seperator.\n",
    "s=seperator.join(group of strings)\n"
   ]
  },
  {
   "cell_type": "code",
   "execution_count": 53,
   "id": "8efbc76d-b890-48ae-ae3e-ab32ede6f4b4",
   "metadata": {},
   "outputs": [
    {
     "name": "stdout",
     "output_type": "stream",
     "text": [
      "('swadhin', 'gyana', 'jyoti', 'nayak')\n",
      "swadhin_gyana_jyoti_nayak\n"
     ]
    }
   ],
   "source": [
    "s=(\"swadhin\",\"gyana\",\"jyoti\",\"nayak\")\n",
    "print(s)\n",
    "print(\"_\".join(s))"
   ]
  },
  {
   "cell_type": "markdown",
   "id": "e9038749-da7b-4c6b-86c6-005385e7975c",
   "metadata": {},
   "source": [
    "# Changing case of a String:\n",
    "We can change case of a string by using the following 4 methods.\n",
    "1. upper()===>To convert all characters to upper case\n",
    "2. lower() ===>To convert all characters to lower case\n",
    "3. swapcase()===>converts all lower case characters to upper case and all upper case characters to\n",
    "lower case\n",
    "4. title() ===>To convert all character to title case. i.e first character in every word should be upper\n",
    "case and all remaining characters should be in lower case.\n",
    "5. capitalize() ==>Only first character will be converted to upper case and all remaining characters\n",
    "can be converted to lower case "
   ]
  },
  {
   "cell_type": "code",
   "execution_count": 54,
   "id": "aa77dfd0-7d48-4ae2-a280-c28c3e5b2089",
   "metadata": {},
   "outputs": [
    {
     "name": "stdout",
     "output_type": "stream",
     "text": [
      "SwaDHIN gyana Jyoti NAYAK\n",
      "SWADHIN GYANA JYOTI NAYAK\n",
      "swadhin gyana jyoti nayak\n",
      "Swadhin Gyana Jyoti Nayak\n",
      "sWAdhin GYANA jYOTI nayak\n",
      "Swadhin gyana jyoti nayak\n"
     ]
    }
   ],
   "source": [
    "s=\"SwaDHIN gyana Jyoti NAYAK\"\n",
    "print(s)\n",
    "print(s.upper())\n",
    "print(s.lower())\n",
    "print(s.title())\n",
    "print(s.swapcase())\n",
    "print(s.capitalize())"
   ]
  },
  {
   "cell_type": "markdown",
   "id": "3220b19d-0222-4e01-8879-01a9c9079078",
   "metadata": {},
   "source": [
    "# Checking starting and ending part of the string:\n",
    "Python contains the following methods for this purpose\n",
    "1. s.startswith(substring)\n",
    "2. s.endswith(substring)\n"
   ]
  },
  {
   "cell_type": "code",
   "execution_count": 56,
   "id": "a9985e15-9dc8-4bed-a28a-dba2e6cb3739",
   "metadata": {},
   "outputs": [
    {
     "name": "stdout",
     "output_type": "stream",
     "text": [
      "True\n",
      "False\n"
     ]
    }
   ],
   "source": [
    "s=\"Swadhin Gyanajyoti Nayak\"\n",
    "print(s.startswith(\"Swadhin\"))\n",
    "print(s.endswith(\"nayak\"))"
   ]
  },
  {
   "cell_type": "markdown",
   "id": "d1da02e4-f908-4ba8-8271-edd1800df431",
   "metadata": {},
   "source": [
    "# To check type of characters present in a string:\n",
    "Python contains the following methods for this purpose.\n",
    "1) isalnum(): Returns True if all characters are alphanumeric( a to z , A to Z ,0 to9 )\n",
    "2) isalpha(): Returns True if all characters are only alphabet symbols(a to z,A to Z)\n",
    "3) isdigit(): Returns True if all characters are digits only( 0 to 9)\n",
    "4) islower(): Returns True if all characters are lower case alphabet symbols\n",
    "5) isupper(): Returns True if all characters are upper case aplhabet symbols\n",
    "6) istitle(): Returns True if string is in title case\n",
    "7) isspace(): Returns True if string contains only spaces"
   ]
  },
  {
   "cell_type": "code",
   "execution_count": 63,
   "id": "0cd19852-1d1b-411a-93ed-b8d414308bb6",
   "metadata": {},
   "outputs": [
    {
     "name": "stdout",
     "output_type": "stream",
     "text": [
      "True\n",
      "True\n",
      "False\n",
      "False\n",
      "True\n",
      "True\n"
     ]
    }
   ],
   "source": [
    "print(\"Swadhin203\".isalnum())#True\n",
    "print(\"swadhin\".isalpha())#True\n",
    "print(\"769u9u6\".isdigit())#False\n",
    "print(\"Swadhin\".islower())#False\n",
    "print(\"SWADHIN\".isupper())#True\n",
    "print(\" \".isspace())#True"
   ]
  },
  {
   "cell_type": "code",
   "execution_count": 66,
   "id": "fd84b1ab-e10e-43e2-8edc-abde4ec4d39f",
   "metadata": {},
   "outputs": [
    {
     "name": "stdin",
     "output_type": "stream",
     "text": [
      "Enter a Character: s\n"
     ]
    },
    {
     "name": "stdout",
     "output_type": "stream",
     "text": [
      "Alpha Numeric Character\n",
      "Alphabet Character\n",
      "Lower Case alphabet Character\n"
     ]
    }
   ],
   "source": [
    "# Programe to Identify a Character\n",
    "s=input(\"Enter a Character:\")\n",
    "if s.isalnum():\n",
    "    print(\"Alpha Numeric Character\")\n",
    "    if s.isalpha():\n",
    "        print(\"Alphabet Character\")\n",
    "        if s.islower():\n",
    "            print(\"Lower Case alphabet Character\")\n",
    "        else:\n",
    "            print(\"Upper Case alphabet Character\")\n",
    "    else:\n",
    "        print(\"It's a Digit\")\n",
    "elif s.isspace():\n",
    "    print(\"It is a Space Character\")        \n",
    "\n",
    "else:\n",
    "    print(\"It is a Special Character\")"
   ]
  },
  {
   "cell_type": "markdown",
   "id": "2e25ea61-2d4c-4b15-9328-e2548ae00718",
   "metadata": {},
   "source": [
    "# Formatting the Strings:\n",
    "We can format the strings with variable values by using replacement operator {} and format()\n",
    "method."
   ]
  },
  {
   "cell_type": "code",
   "execution_count": 68,
   "id": "38468fc3-7df8-4720-a1f7-141f79109b8f",
   "metadata": {},
   "outputs": [
    {
     "name": "stdout",
     "output_type": "stream",
     "text": [
      "durga 's salary is 10000 and his age is 48\n",
      "durga 's salary is 10000 and his age is 48\n"
     ]
    }
   ],
   "source": [
    "name='durga'\n",
    "salary=10000\n",
    "age=48\n",
    "print(\"{} 's salary is {} and his age is {}\".format(name,salary,age))\n",
    "print(\"{0} 's salary is {1} and his age is {2}\".format(name,salary,age))"
   ]
  },
  {
   "cell_type": "code",
   "execution_count": 73,
   "id": "57ff0d9c-38a7-4bb7-8dca-7f5e7d60d057",
   "metadata": {},
   "outputs": [
    {
     "name": "stdout",
     "output_type": "stream",
     "text": [
      "kayaN itoyjanayG nihdawS\n",
      "kayaN itoyjanayG nihdawS\n",
      "kayaN itoyjanayG nihdawS\n"
     ]
    }
   ],
   "source": [
    "# Reverse of a String\n",
    "s=\"Swadhin Gyanajyoti Nayak\"\n",
    "#1st way\n",
    "print(s[::-1])\n",
    "#2nd Way\n",
    "print(\"\".join(reversed(s)))\n",
    "#3rd Way\n",
    "i=len(s)-1\n",
    "target=\"\"\n",
    "while i>=0:\n",
    "    target=target+s[i]\n",
    "    i-=1\n",
    "print(target)"
   ]
  },
  {
   "cell_type": "code",
   "execution_count": 77,
   "id": "da683627-7c36-47ad-b287-d33cd30da43a",
   "metadata": {},
   "outputs": [
    {
     "name": "stdin",
     "output_type": "stream",
     "text": [
      "Enter a String: my name is swadhin gyanajyoti nayak\n"
     ]
    },
    {
     "name": "stdout",
     "output_type": "stream",
     "text": [
      "nayak gyanajyoti swadhin is name my\n"
     ]
    }
   ],
   "source": [
    "# Q2. Program to reverse order of words.\n",
    "s=input(\"Enter a String:\")\n",
    "l=s.split()\n",
    "l1=[]\n",
    "i=len(l)-1\n",
    "while i>=0:\n",
    "    l1.append(l[i])\n",
    "    i=i-1\n",
    "output=\" \".join(l1)\n",
    "print(output)"
   ]
  },
  {
   "cell_type": "code",
   "execution_count": 78,
   "id": "b0e15186-8773-4e56-a9fc-07dc7f655b63",
   "metadata": {},
   "outputs": [
    {
     "name": "stdin",
     "output_type": "stream",
     "text": [
      "Enter a String: swadhin gyanajyoti nayak\n"
     ]
    },
    {
     "name": "stdout",
     "output_type": "stream",
     "text": [
      "nihdaws itoyjanayg kayan\n"
     ]
    }
   ],
   "source": [
    "# Q3. Program to reverse internal content of each word.\n",
    "s=input(\"Enter a String:\")\n",
    "l=s.split()\n",
    "l1=[]\n",
    "i=0\n",
    "while i<len(l):\n",
    "    l1.append(l[i][::-1])\n",
    "    i+=1\n",
    "output=\" \".join(l1)\n",
    "print(output)"
   ]
  },
  {
   "cell_type": "code",
   "execution_count": 3,
   "id": "b76423e0-0d66-4f8f-a157-149a18abba6d",
   "metadata": {},
   "outputs": [
    {
     "name": "stdin",
     "output_type": "stream",
     "text": [
      "Enter the String: swadhin\n"
     ]
    },
    {
     "name": "stdout",
     "output_type": "stream",
     "text": [
      "wdi\n",
      "Character at Even Postion are:\n",
      "s a h n \n",
      "w d i "
     ]
    }
   ],
   "source": [
    "# Q4. Write a program to print characters at odd position and even position for the given\n",
    "# String?\n",
    "#1St way\n",
    "s=input(\"Enter the String:\")\n",
    "print(s[1::2])\n",
    "#2nd Way\n",
    "i=0\n",
    "print(\"Character at Even Postion are:\")\n",
    "while i<len(s):\n",
    "    print(s[i],end=\" \")\n",
    "    i+=2\n",
    "print()\n",
    "i=1\n",
    "while i<len(s):\n",
    "    print(s[i],end=\" \")\n",
    "    i+=2\n",
    "    "
   ]
  },
  {
   "cell_type": "code",
   "execution_count": 4,
   "id": "d6de9e22-9460-462f-9678-a1c8c28ddadb",
   "metadata": {},
   "outputs": [
    {
     "name": "stdin",
     "output_type": "stream",
     "text": [
      "Enter Some String: swadhin34\n"
     ]
    },
    {
     "name": "stdout",
     "output_type": "stream",
     "text": [
      "  adhinsw 34\n"
     ]
    }
   ],
   "source": [
    "# Write a program to sort the characters of the string and first alphabet symbols\n",
    "# followed by numeric values\n",
    "s=input(\"Enter Some String:\")\n",
    "s1=s2=output=\" \"\n",
    "for x in s:\n",
    "    if x.isalpha():\n",
    "        s1=s1+x\n",
    "    else:\n",
    "        s2=s2+x\n",
    "for x in sorted(s1):\n",
    "    output=output+x\n",
    "for x in sorted(s2):\n",
    "    output=output+x\n",
    "print(output)"
   ]
  },
  {
   "cell_type": "code",
   "execution_count": 35,
   "id": "caf85120-3394-465a-9016-66b409cb9a09",
   "metadata": {},
   "outputs": [
    {
     "name": "stdin",
     "output_type": "stream",
     "text": [
      "Enter a String input a4b3c5\n"
     ]
    },
    {
     "name": "stdout",
     "output_type": "stream",
     "text": [
      "aaaabbbccccc"
     ]
    }
   ],
   "source": [
    "# Write a program for the following requirement\n",
    "# input: a4b3c2\n",
    "# output: aaaabbbcc\n",
    "s=input(\"Enter a String input\")\n",
    "for i in range(0,len(s),2):\n",
    "    print(s[i]*int(s[i+1]),end=\"\")"
   ]
  },
  {
   "cell_type": "code",
   "execution_count": 51,
   "id": "d44a38d2-cadb-49f3-8a85-07501db00729",
   "metadata": {},
   "outputs": [
    {
     "name": "stdin",
     "output_type": "stream",
     "text": [
      "Enter a  multi character string: swadhghisngis\n"
     ]
    },
    {
     "name": "stdout",
     "output_type": "stream",
     "text": [
      "swadhgin\n"
     ]
    }
   ],
   "source": [
    " # Write a program to remove duplicate characters from the given input string?\n",
    "s=input(\"Enter a  multi character string:\")\n",
    "l=[]\n",
    "for x in s:\n",
    "    if x not in l:\n",
    "        l.append(x)\n",
    "print(\"\".join(l))"
   ]
  },
  {
   "cell_type": "code",
   "execution_count": 56,
   "id": "4dbc9c0f-40c1-4bd7-8955-6ff7b084819d",
   "metadata": {},
   "outputs": [
    {
     "name": "stdin",
     "output_type": "stream",
     "text": [
      "Enter the String: swttinginsnngs\n"
     ]
    },
    {
     "name": "stdout",
     "output_type": "stream",
     "text": [
      "s=3 Times\n",
      "w=1 Times\n",
      "t=2 Times\n",
      "i=2 Times\n",
      "n=4 Times\n",
      "g=2 Times\n"
     ]
    }
   ],
   "source": [
    "#  Write a program to find the number of occurrences of each character present in the\n",
    "# given String?\n",
    "# input: ABCABCABBCDE\n",
    "# output: A-3,B-4,C-3,D-1,E-1\n",
    "\n",
    "s=input(\"Enter the String:\")\n",
    "d={}\n",
    "for x in s:\n",
    "    if x in d.keys():\n",
    "        d[x]=d[x]+1\n",
    "    else:\n",
    "        d[x]=1\n",
    "for k,v in d.items():\n",
    "    print(f\"{k}={v} Times\")"
   ]
  },
  {
   "cell_type": "markdown",
   "id": "96aa8d4a-b5a6-4826-be51-b1d379e93b42",
   "metadata": {},
   "source": [
    "# Formatting the Strings:\n",
    "We can format the strings with variable values by using replacement operator {} and format()\n",
    "method.\n",
    "The main objective of format() method to format string into meaningful output form."
   ]
  },
  {
   "cell_type": "markdown",
   "id": "4f41b76f-a0ef-47ab-8b0c-145903dd78b9",
   "metadata": {},
   "source": [
    "## Case- 1:\n",
    "Basic Formatting for default, positional and keyword arguments"
   ]
  },
  {
   "cell_type": "code",
   "execution_count": 57,
   "id": "e93820f1-04e2-4b89-954c-5a937731e344",
   "metadata": {},
   "outputs": [
    {
     "name": "stdout",
     "output_type": "stream",
     "text": [
      "Swadhin 's salary is 100000000000 and his age is 19\n",
      "Swadhin 's salary is 100000000000 and his age is 19\n",
      "Swadhin 's salary is 100000000000 and his age is 19\n"
     ]
    }
   ],
   "source": [
    "name='Swadhin'\n",
    "salary=100000000000\n",
    "age=19\n",
    "print(\"{} 's salary is {} and his age is {}\".format(name,salary,age))\n",
    "print(\"{0} 's salary is {1} and his age is {2}\".format(name,salary,age))\n",
    "print(\"{x} 's salary is {y} and his age is {z}\".format(z=age,y=salary,x=name))"
   ]
  },
  {
   "cell_type": "markdown",
   "id": "c9c5b1bc-61ab-47c9-9944-9a3e84ad9396",
   "metadata": {},
   "source": [
    "\n",
    "## Case-2:\n",
    "Formatting Numbers\n",
    "1-d--->Decimal IntEger\n",
    "\n",
    "2-f----->Fixed point number(float).The default precision is 6\n",
    "\n",
    "3-b-->Binary format\n",
    "\n",
    "4-o--->Octal Format\n",
    "\n",
    "5-x-->Hexa Decimal Format(Lower case)\n",
    "\n",
    "6-X-->Hexa Decimal Format(Upper case)"
   ]
  },
  {
   "cell_type": "code",
   "execution_count": 58,
   "id": "c4a8f177-7bd4-41f5-aa13-0c5bd841246a",
   "metadata": {},
   "outputs": [
    {
     "name": "stdout",
     "output_type": "stream",
     "text": [
      "The float number is:  123.457\n",
      "The float number is: 0123.457\n",
      "The float number is: 0123.450\n",
      "The float number is: 786786123.450\n"
     ]
    }
   ],
   "source": [
    "print(\"The float number is: {:8.3f}\".format(123.4567))\n",
    "print(\"The float number is: {:08.3f}\".format(123.4567))\n",
    "print(\"The float number is: {:08.3f}\".format(123.45))\n",
    "print(\"The float number is: {:08.3f}\".format(786786123.45))\n"
   ]
  },
  {
   "cell_type": "code",
   "execution_count": null,
   "id": "85b50829-20cd-43a3-99c1-9e17eb3e3a4a",
   "metadata": {},
   "outputs": [],
   "source": []
  },
  {
   "cell_type": "code",
   "execution_count": null,
   "id": "97940f55-7bf0-4a3a-861b-f1e4cf3f9c81",
   "metadata": {},
   "outputs": [],
   "source": []
  },
  {
   "cell_type": "code",
   "execution_count": null,
   "id": "026b7e52-77b3-4d24-a6af-edac1100b6ad",
   "metadata": {},
   "outputs": [],
   "source": []
  },
  {
   "cell_type": "code",
   "execution_count": null,
   "id": "0b5c07c8-f795-4874-9f55-e4a9c5329fe1",
   "metadata": {},
   "outputs": [],
   "source": []
  },
  {
   "cell_type": "code",
   "execution_count": null,
   "id": "8de5603e-3a47-429b-944a-b6e7d53f0f86",
   "metadata": {},
   "outputs": [],
   "source": []
  },
  {
   "cell_type": "code",
   "execution_count": null,
   "id": "5ca904a3-b4a6-48d5-a807-e50aef670f5b",
   "metadata": {},
   "outputs": [],
   "source": []
  },
  {
   "cell_type": "code",
   "execution_count": null,
   "id": "c7ea9dc3-ce00-4273-a44a-edac1d274591",
   "metadata": {},
   "outputs": [],
   "source": []
  },
  {
   "cell_type": "code",
   "execution_count": null,
   "id": "f7a4c541-fdad-4a15-bc72-2229f66fc10c",
   "metadata": {},
   "outputs": [],
   "source": []
  },
  {
   "cell_type": "code",
   "execution_count": null,
   "id": "e0442314-398c-4ca9-9a84-8d6ba21f009a",
   "metadata": {},
   "outputs": [],
   "source": []
  },
  {
   "cell_type": "code",
   "execution_count": null,
   "id": "05ba3f07-750f-4f29-8fda-0fdf4323bae6",
   "metadata": {},
   "outputs": [],
   "source": []
  },
  {
   "cell_type": "code",
   "execution_count": null,
   "id": "658c87c7-1ed1-4e68-9d0b-0c72e915848a",
   "metadata": {},
   "outputs": [],
   "source": []
  },
  {
   "cell_type": "code",
   "execution_count": null,
   "id": "73d71a7b-4742-4c1c-a65d-a4a83cd3265d",
   "metadata": {},
   "outputs": [],
   "source": []
  },
  {
   "cell_type": "code",
   "execution_count": null,
   "id": "22328dba-148a-4f35-ad72-3aedd4fa0131",
   "metadata": {},
   "outputs": [],
   "source": []
  },
  {
   "cell_type": "code",
   "execution_count": null,
   "id": "79758ca5-fd6f-4c35-8b93-f20990d9f992",
   "metadata": {},
   "outputs": [],
   "source": []
  },
  {
   "cell_type": "code",
   "execution_count": null,
   "id": "dbcdc4ec-9cbe-4ed2-bd94-b24875ca0906",
   "metadata": {},
   "outputs": [],
   "source": []
  },
  {
   "cell_type": "code",
   "execution_count": null,
   "id": "7cfddd1a-099f-46da-bfb3-e850caa970f6",
   "metadata": {},
   "outputs": [],
   "source": []
  },
  {
   "cell_type": "code",
   "execution_count": null,
   "id": "76a779e5-92d4-4b06-b31a-1ab7dd9bc7bf",
   "metadata": {},
   "outputs": [],
   "source": []
  },
  {
   "cell_type": "code",
   "execution_count": null,
   "id": "6763abb2-4070-4699-8070-9ea020231dc3",
   "metadata": {},
   "outputs": [],
   "source": []
  },
  {
   "cell_type": "code",
   "execution_count": null,
   "id": "ff2d5891-bc57-460f-bd29-43b7eba7d03e",
   "metadata": {},
   "outputs": [],
   "source": []
  },
  {
   "cell_type": "code",
   "execution_count": null,
   "id": "0f33f130-a26c-4450-9ed4-0d6cdac4b24a",
   "metadata": {},
   "outputs": [],
   "source": []
  },
  {
   "cell_type": "code",
   "execution_count": null,
   "id": "d23432eb-6518-4ae1-bd6d-ba342d0dd842",
   "metadata": {},
   "outputs": [],
   "source": []
  },
  {
   "cell_type": "code",
   "execution_count": null,
   "id": "a32d6780-0961-493a-96a2-1d8dbf229679",
   "metadata": {},
   "outputs": [],
   "source": []
  },
  {
   "cell_type": "code",
   "execution_count": null,
   "id": "5a325efc-50b2-456f-ab12-b64b627f0f8e",
   "metadata": {},
   "outputs": [],
   "source": []
  },
  {
   "cell_type": "code",
   "execution_count": null,
   "id": "ac006951-6b1c-41ca-8f01-daf0cbf9fff2",
   "metadata": {},
   "outputs": [],
   "source": []
  },
  {
   "cell_type": "code",
   "execution_count": null,
   "id": "813df561-34bc-40d8-bb56-5ab03810add2",
   "metadata": {},
   "outputs": [],
   "source": []
  },
  {
   "cell_type": "code",
   "execution_count": null,
   "id": "21743041-6668-4bc7-ac12-508291641836",
   "metadata": {},
   "outputs": [],
   "source": []
  },
  {
   "cell_type": "code",
   "execution_count": null,
   "id": "36895656-34ad-423f-afe3-a914d0d9551b",
   "metadata": {},
   "outputs": [],
   "source": []
  },
  {
   "cell_type": "code",
   "execution_count": null,
   "id": "c02655f5-66f6-4c03-97d4-faa63381146b",
   "metadata": {},
   "outputs": [],
   "source": []
  },
  {
   "cell_type": "code",
   "execution_count": null,
   "id": "7162c6b3-12c3-4f29-960b-b586d2a8de36",
   "metadata": {},
   "outputs": [],
   "source": []
  },
  {
   "cell_type": "code",
   "execution_count": null,
   "id": "b0874502-029a-4d44-9868-6428a416c2a7",
   "metadata": {},
   "outputs": [],
   "source": []
  },
  {
   "cell_type": "code",
   "execution_count": null,
   "id": "2d4a6c90-faeb-47dc-b3f0-ba04941f8d3b",
   "metadata": {},
   "outputs": [],
   "source": []
  },
  {
   "cell_type": "code",
   "execution_count": null,
   "id": "181ac144-cd0a-4f03-9b4e-5c37ce3fa8b7",
   "metadata": {},
   "outputs": [],
   "source": []
  },
  {
   "cell_type": "code",
   "execution_count": null,
   "id": "a82f3e8a-9bff-4770-950a-99b515df3fc3",
   "metadata": {},
   "outputs": [],
   "source": []
  },
  {
   "cell_type": "code",
   "execution_count": null,
   "id": "46fd71fd-5c35-4c3c-8b5c-6388cd9fd3a3",
   "metadata": {},
   "outputs": [],
   "source": []
  },
  {
   "cell_type": "code",
   "execution_count": null,
   "id": "b464840e-b003-479c-a454-fffca0453fc0",
   "metadata": {},
   "outputs": [],
   "source": []
  },
  {
   "cell_type": "code",
   "execution_count": null,
   "id": "45c5e2d7-8dd7-4f66-a083-d6f0495dc040",
   "metadata": {},
   "outputs": [],
   "source": []
  },
  {
   "cell_type": "code",
   "execution_count": null,
   "id": "92cee239-0669-4229-aa36-7bc48048b673",
   "metadata": {},
   "outputs": [],
   "source": []
  }
 ],
 "metadata": {
  "kernelspec": {
   "display_name": "Python 3 (ipykernel)",
   "language": "python",
   "name": "python3"
  },
  "language_info": {
   "codemirror_mode": {
    "name": "ipython",
    "version": 3
   },
   "file_extension": ".py",
   "mimetype": "text/x-python",
   "name": "python",
   "nbconvert_exporter": "python",
   "pygments_lexer": "ipython3",
   "version": "3.11.4"
  },
  "widgets": {
   "application/vnd.jupyter.widget-state+json": {
    "state": {},
    "version_major": 2,
    "version_minor": 0
   }
  }
 },
 "nbformat": 4,
 "nbformat_minor": 5
}
